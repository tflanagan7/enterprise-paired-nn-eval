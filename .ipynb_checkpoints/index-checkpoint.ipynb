{
 "cells": [
  {
   "cell_type": "markdown",
   "metadata": {
    "id": "jVOtlo1QnMwz"
   },
   "source": [
    "# TensorFlow and TensorBoard with Evaluation\n",
    "\n"
   ]
  },
  {
   "cell_type": "markdown",
   "metadata": {
    "id": "J9BDVGNbbEaX"
   },
   "source": [
    "## Purpose"
   ]
  },
  {
   "cell_type": "markdown",
   "metadata": {
    "id": "_QrFX6SUnUwC"
   },
   "source": [
    "The purpose of this lab is twofold.  \n",
    "\n",
    "1.   to review using `TensorFlow` for modeling and evaluation with neural networks\n",
    "2.   to learn about [`TensorBoard`](https://www.tensorflow.org/tensorboard)\n",
    "\n",
    "`TensorBoard` is `TensorFlow`'s visualization toolkit, so it is a dashboard that provides visualization and tooling that is needed for machine learning experimentation. \n",
    "\n",
    "We'll be using the canonical [Titanic Data Set](https://www.kaggle.com/competitions/titanic/overview)."
   ]
  },
  {
   "cell_type": "markdown",
   "metadata": {
    "id": "unefoXqXYRxD"
   },
   "source": [
    "## The Titanic"
   ]
  },
  {
   "cell_type": "markdown",
   "metadata": {
    "id": "GDT8p0nBZjVX"
   },
   "source": [
    "### The Titanic and it's data"
   ]
  },
  {
   "cell_type": "markdown",
   "metadata": {
    "id": "r2UPXuXmZxj5"
   },
   "source": [
    "\n",
    "\n",
    "RMS Titanic was a British passenger liner built by Harland and Wolf and operated by the White Star Line. It sank in the North Atlantic Ocean in the early morning hours of 15 April 1912, after striking an iceberg during her maiden voyage from Southampton, England to New York City, USA.\n",
    "\n",
    "Of the estimated 2,224 passengers and crew aboard, more than 1,500 died, making the sinking one of modern history's deadliest peacetime commercial marine disasters. \n",
    "\n",
    "Though there were about 2,224 passengers and crew members, we are given data of about 1,300 passengers. Out of these 1,300 passengers details, about 900 data is used for training purpose and remaining 400 is used for test purpose. The test data has had the survived column removed and we'll use neural networks to predict whether the passengers in the test data survived or not. Both training and test data are not perfectly clean as we'll see."
   ]
  },
  {
   "cell_type": "markdown",
   "metadata": {
    "id": "TejSm5Jcyh7o"
   },
   "source": [
    "Below is a picture of the Titanic Museum in Belfast, Northern Ireland."
   ]
  },
  {
   "cell_type": "code",
   "execution_count": 1,
   "metadata": {
    "colab": {
     "base_uri": "https://localhost:8080/"
    },
    "id": "n_o3ZveKwDxR",
    "outputId": "8f51437c-fbae-4f63-b669-913a54267d4f"
   },
   "outputs": [
    {
     "data": {
      "text/html": [
       "<img src=\"https://upload.wikimedia.org/wikipedia/commons/c/c0/Titanic_Belfast_HDR.jpg\" width=\"400\" height=\"400\"/>"
      ],
      "text/plain": [
       "<IPython.core.display.Image object>"
      ]
     },
     "execution_count": 1,
     "metadata": {},
     "output_type": "execute_result"
    }
   ],
   "source": [
    "from IPython.display import Image\n",
    "from IPython.core.display import HTML \n",
    "Image(url= \"https://upload.wikimedia.org/wikipedia/commons/c/c0/Titanic_Belfast_HDR.jpg\", width=400, height=400)"
   ]
  },
  {
   "cell_type": "markdown",
   "metadata": {
    "id": "UO5Qrri1Zz9b"
   },
   "source": [
    "### Data Dictionary"
   ]
  },
  {
   "cell_type": "markdown",
   "metadata": {
    "id": "LJTNWdE1ZmI2"
   },
   "source": [
    "*   *Survival* : 0 = No, 1 = Yes\n",
    "*   *Pclass* : A proxy for socio-economic status (SES)\n",
    "  *   1st = Upper\n",
    "  *   2nd = Middle\n",
    "  *   3rd = Lower\n",
    "*   *sibsp* : The number of siblings / spouses aboard the Titanic\n",
    "  *   Sibling = brother, sister, stepbrother, stepsister\n",
    "  *   Spouse = husband, wife (mistresses and fiancés were ignored)\n",
    "*   *parch* : The # of parents / children aboard the Titanic\n",
    "  *   Parent = mother, father\n",
    "  *   Child = daughter, son, stepdaughter, stepson\n",
    "  *   Some children travelled only with a nanny, therefore *parch*=0 for them.\n",
    "*   *Ticket* : Ticket number\n",
    "*   *Fare* : Passenger fare (British pounds)\n",
    "*   *Cabin* : Cabin number embarked\n",
    "*   *Embarked* : Port of Embarkation\n",
    "  *   C = Cherbourg (now Cherbourg-en-Cotentin), France\n",
    "  *   Q = Queenstown (now Cobh), Ireland\n",
    "  *   S = Southampton, England\n",
    "*   *Name*, *Sex*, *Age* (years) are all self-explanatory"
   ]
  },
  {
   "cell_type": "markdown",
   "metadata": {
    "id": "1adtHjJCE5sd"
   },
   "source": [
    "## Libraries and the Data\n",
    "\n"
   ]
  },
  {
   "cell_type": "markdown",
   "metadata": {
    "id": "Zoz_n8VnFdxB"
   },
   "source": [
    "### Importing libraries"
   ]
  },
  {
   "cell_type": "code",
   "execution_count": 2,
   "metadata": {
    "id": "lS0qLxZmnLHw"
   },
   "outputs": [],
   "source": [
    "# Load the germane libraries\n",
    "\n",
    "import pandas as pd\n",
    "import numpy as np\n",
    "import seaborn as sns \n",
    "from pandas._libs.tslibs import timestamps\n",
    "import matplotlib.pyplot as plt\n",
    "%matplotlib inline\n",
    "\n",
    "from sklearn.preprocessing import StandardScaler\n",
    "\n",
    "import tensorflow as tf\n",
    "import keras \n",
    "from keras import models\n",
    "from keras.layers import Dense\n",
    "from keras.models import Sequential\n",
    "from keras.losses import binary_crossentropy\n",
    "from keras.wrappers.scikit_learn import KerasClassifier\n",
    "\n",
    "# Load the TensorBoard notebook extension and related libraries\n",
    "%load_ext tensorboard\n",
    "import datetime"
   ]
  },
  {
   "cell_type": "markdown",
   "metadata": {
    "id": "Z-ljPxHFaf3_"
   },
   "source": [
    "### Loading the data"
   ]
  },
  {
   "cell_type": "code",
   "execution_count": 3,
   "metadata": {
    "id": "NXuO8yi1EjaX"
   },
   "outputs": [],
   "source": [
    "# Load the data\n",
    "\n",
    "train = pd.read_csv('train.csv')\n",
    "test = pd.read_csv('test.csv')\n",
    "\n",
    "# We need to do this for when we mamke our predictions from the test data at the end\n",
    "ids = test[['PassengerId']]"
   ]
  },
  {
   "cell_type": "markdown",
   "metadata": {
    "id": "kpMM9RGkam8n"
   },
   "source": [
    "## EDA and Preprocessing"
   ]
  },
  {
   "cell_type": "markdown",
   "metadata": {
    "id": "Cth9IzJyFMfB"
   },
   "source": [
    "### Exploratory Data Analysis"
   ]
  },
  {
   "cell_type": "markdown",
   "metadata": {
    "id": "O33PqcFJ2I0L"
   },
   "source": [
    "It is your choice how much or how little EDA that you perform. But you should do enough EDA that you feel comfortable with the data and what you'll need to do to make it so that you can run a neural network on it.\n",
    "\n",
    "It is prudent to investigate the attributes of the data frames, create visualizations, and perform data analysis."
   ]
  },
  {
   "cell_type": "markdown",
   "metadata": {
    "id": "RTBTMLo2LmX8"
   },
   "source": [
    "### Preprocessing"
   ]
  },
  {
   "cell_type": "markdown",
   "metadata": {
    "id": "x_MSWuALx6O_"
   },
   "source": [
    "Here are some suggestions:\n",
    "\n",
    "*   Check to see if you have missing data in the train and test sets.\n",
    "*   Combine the test and train sets into a dataframe called *combined* since it will make preprocessing more efficient\n",
    "*   Use the median of the column to replace missing data for numeric values\n",
    "*   Use the mode of the column to replace missing data for categorical values\n",
    "*   Change *Pclass* from 1, 2, 3, to 1st, 2nd, 3rd\n",
    "*   Create a new variable *Child*, where you use the *Age* column to assign those who are 18 years or older a 1, and those younger a 0\n",
    "*   For *Sex*, let Male = 0 and Female = 1\n",
    "*   For *Embarked*, Q=0, S=1, and S=2\n",
    "*   The names of the passengers are not meaningful for the model, but their titles may be.\n",
    "  * Use the **Code Chunk 1** below to help you with this.\n",
    "*   Drop the irrelevant columns: *PassengerId*, *Name*, *Ticket*, *Cabin* and use `get_dummies`\n",
    "  * Use the **Code Chunk 2** below to help you with this.\n",
    "*  Resplit and scale the data.\n",
    "  * Use the **Code Chunk 3** below to help you with this.\n",
    "\n",
    "Of course, for the two code chunks you need to uncomment the germane lines of code."
   ]
  },
  {
   "cell_type": "code",
   "execution_count": 4,
   "metadata": {},
   "outputs": [
    {
     "data": {
      "text/html": [
       "<div>\n",
       "<style scoped>\n",
       "    .dataframe tbody tr th:only-of-type {\n",
       "        vertical-align: middle;\n",
       "    }\n",
       "\n",
       "    .dataframe tbody tr th {\n",
       "        vertical-align: top;\n",
       "    }\n",
       "\n",
       "    .dataframe thead th {\n",
       "        text-align: right;\n",
       "    }\n",
       "</style>\n",
       "<table border=\"1\" class=\"dataframe\">\n",
       "  <thead>\n",
       "    <tr style=\"text-align: right;\">\n",
       "      <th></th>\n",
       "      <th>PassengerId</th>\n",
       "      <th>Survived</th>\n",
       "      <th>Pclass</th>\n",
       "      <th>Name</th>\n",
       "      <th>Sex</th>\n",
       "      <th>Age</th>\n",
       "      <th>SibSp</th>\n",
       "      <th>Parch</th>\n",
       "      <th>Ticket</th>\n",
       "      <th>Fare</th>\n",
       "      <th>Cabin</th>\n",
       "      <th>Embarked</th>\n",
       "    </tr>\n",
       "  </thead>\n",
       "  <tbody>\n",
       "    <tr>\n",
       "      <th>0</th>\n",
       "      <td>1</td>\n",
       "      <td>0.0</td>\n",
       "      <td>3</td>\n",
       "      <td>Braund, Mr. Owen Harris</td>\n",
       "      <td>male</td>\n",
       "      <td>22.0</td>\n",
       "      <td>1</td>\n",
       "      <td>0</td>\n",
       "      <td>A/5 21171</td>\n",
       "      <td>7.2500</td>\n",
       "      <td>NaN</td>\n",
       "      <td>S</td>\n",
       "    </tr>\n",
       "    <tr>\n",
       "      <th>1</th>\n",
       "      <td>2</td>\n",
       "      <td>1.0</td>\n",
       "      <td>1</td>\n",
       "      <td>Cumings, Mrs. John Bradley (Florence Briggs Th...</td>\n",
       "      <td>female</td>\n",
       "      <td>38.0</td>\n",
       "      <td>1</td>\n",
       "      <td>0</td>\n",
       "      <td>PC 17599</td>\n",
       "      <td>71.2833</td>\n",
       "      <td>C85</td>\n",
       "      <td>C</td>\n",
       "    </tr>\n",
       "    <tr>\n",
       "      <th>2</th>\n",
       "      <td>3</td>\n",
       "      <td>1.0</td>\n",
       "      <td>3</td>\n",
       "      <td>Heikkinen, Miss. Laina</td>\n",
       "      <td>female</td>\n",
       "      <td>26.0</td>\n",
       "      <td>0</td>\n",
       "      <td>0</td>\n",
       "      <td>STON/O2. 3101282</td>\n",
       "      <td>7.9250</td>\n",
       "      <td>NaN</td>\n",
       "      <td>S</td>\n",
       "    </tr>\n",
       "    <tr>\n",
       "      <th>3</th>\n",
       "      <td>4</td>\n",
       "      <td>1.0</td>\n",
       "      <td>1</td>\n",
       "      <td>Futrelle, Mrs. Jacques Heath (Lily May Peel)</td>\n",
       "      <td>female</td>\n",
       "      <td>35.0</td>\n",
       "      <td>1</td>\n",
       "      <td>0</td>\n",
       "      <td>113803</td>\n",
       "      <td>53.1000</td>\n",
       "      <td>C123</td>\n",
       "      <td>S</td>\n",
       "    </tr>\n",
       "    <tr>\n",
       "      <th>4</th>\n",
       "      <td>5</td>\n",
       "      <td>0.0</td>\n",
       "      <td>3</td>\n",
       "      <td>Allen, Mr. William Henry</td>\n",
       "      <td>male</td>\n",
       "      <td>35.0</td>\n",
       "      <td>0</td>\n",
       "      <td>0</td>\n",
       "      <td>373450</td>\n",
       "      <td>8.0500</td>\n",
       "      <td>NaN</td>\n",
       "      <td>S</td>\n",
       "    </tr>\n",
       "  </tbody>\n",
       "</table>\n",
       "</div>"
      ],
      "text/plain": [
       "   PassengerId  Survived  Pclass  \\\n",
       "0            1       0.0       3   \n",
       "1            2       1.0       1   \n",
       "2            3       1.0       3   \n",
       "3            4       1.0       1   \n",
       "4            5       0.0       3   \n",
       "\n",
       "                                                Name     Sex   Age  SibSp  \\\n",
       "0                            Braund, Mr. Owen Harris    male  22.0      1   \n",
       "1  Cumings, Mrs. John Bradley (Florence Briggs Th...  female  38.0      1   \n",
       "2                             Heikkinen, Miss. Laina  female  26.0      0   \n",
       "3       Futrelle, Mrs. Jacques Heath (Lily May Peel)  female  35.0      1   \n",
       "4                           Allen, Mr. William Henry    male  35.0      0   \n",
       "\n",
       "   Parch            Ticket     Fare Cabin Embarked  \n",
       "0      0         A/5 21171   7.2500   NaN        S  \n",
       "1      0          PC 17599  71.2833   C85        C  \n",
       "2      0  STON/O2. 3101282   7.9250   NaN        S  \n",
       "3      0            113803  53.1000  C123        S  \n",
       "4      0            373450   8.0500   NaN        S  "
      ]
     },
     "execution_count": 4,
     "metadata": {},
     "output_type": "execute_result"
    }
   ],
   "source": [
    "#Combine the test and train sets into a dataframe called combined since it will make preprocessing more efficient\n",
    "combined = pd.concat([train, test], axis=0, sort=False)\n",
    "combined.head()"
   ]
  },
  {
   "cell_type": "code",
   "execution_count": 5,
   "metadata": {},
   "outputs": [
    {
     "data": {
      "text/plain": [
       "PassengerId       0\n",
       "Survived        418\n",
       "Pclass            0\n",
       "Name              0\n",
       "Sex               0\n",
       "Age             263\n",
       "SibSp             0\n",
       "Parch             0\n",
       "Ticket            0\n",
       "Fare              1\n",
       "Cabin          1014\n",
       "Embarked          2\n",
       "dtype: int64"
      ]
     },
     "execution_count": 5,
     "metadata": {},
     "output_type": "execute_result"
    }
   ],
   "source": [
    "combined.isnull().sum()"
   ]
  },
  {
   "cell_type": "code",
   "execution_count": 6,
   "metadata": {},
   "outputs": [],
   "source": [
    "#Age column\n",
    "combined['Age'].fillna(combined['Age'].median(),inplace=True) # Age\n",
    "\n",
    "# Embarked column\n",
    "combined['Embarked'].fillna(combined['Embarked'].value_counts().index[0], inplace=True) # Embarked\n",
    "combined['Fare'].fillna(combined['Fare'].median(),inplace=True)\n",
    "\n",
    "# Class column\n",
    "d = {1:'1st',2:'2nd',3:'3rd'} #Pclass\n",
    "combined['Pclass'] = combined['Pclass'].map(d) #Pclass\n",
    "\n",
    "# Making Age into adult (1) and child (0)\n",
    "combined['Child'] = combined['Age'].apply(lambda age: 1 if age>=18 else 0)\n"
   ]
  },
  {
   "cell_type": "code",
   "execution_count": 7,
   "metadata": {},
   "outputs": [],
   "source": [
    "#Cabin column\n",
    "combined['Cabin'].fillna(combined['Cabin'].mode(), inplace=True)  #Cabin\n"
   ]
  },
  {
   "cell_type": "markdown",
   "metadata": {
    "id": "Fi3wkO8p8AlB"
   },
   "source": [
    "**Code Chunk 1** Titles"
   ]
  },
  {
   "cell_type": "code",
   "execution_count": 8,
   "metadata": {
    "id": "grIYWsljkf-j"
   },
   "outputs": [],
   "source": [
    "\n",
    "\n",
    "# Break up the string that has the title and names\n",
    "combined['Title'] = combined['Name'].str.split('.').str.get(0)  # output : 'Futrelle, Mrs'\n",
    "combined['Title'] = combined['Title'].str.split(',').str.get(1) # output : 'Mrs '\n",
    "combined['Title'] = combined['Title'].str.strip()               # output : 'Mrs'\n",
    "combined.groupby('Title').count()\n",
    "\n",
    "# Replace the French titles with Enlgish\n",
    "french_titles = ['Don', 'Dona', 'Mme', 'Ms', 'Mra','Mlle']\n",
    "english_titles = ['Mr', 'Mrs','Mrs','Mrs','Mrs','Miss']\n",
    "for i in range(len(french_titles)):\n",
    "   for j in range(len(english_titles)):\n",
    "       if i == j:\n",
    "           combined['Title'] = combined['Title'].str.replace(french_titles[i],english_titles[j])\n",
    "\n",
    "# Seperate the titles into \"major\" and \"others\", the latter would be, e.g., Reverend\n",
    "major_titles = ['Mr','Mrs','Miss','Master']\n",
    "combined['Title'] = combined['Title'].apply(lambda title: title if title in major_titles else 'Others')"
   ]
  },
  {
   "cell_type": "markdown",
   "metadata": {
    "id": "KtLss24OlsOM"
   },
   "source": [
    "**Code Chunk 2** Dropping and Dummies"
   ]
  },
  {
   "cell_type": "code",
   "execution_count": 9,
   "metadata": {
    "colab": {
     "base_uri": "https://localhost:8080/"
    },
    "id": "LMNN9qZ3m48T",
    "outputId": "34e8eb4a-c9f2-4935-c7ee-3b3250ae48ef"
   },
   "outputs": [],
   "source": [
    "# Dropping the Irrelevant Columns\n",
    "combined.drop(['PassengerId','Name','Ticket','Cabin'], 1, inplace=True)\n",
    "\n",
    "# Getting Dummy Variables and Dropping the Original Categorical Variables\n",
    "categorical_vars = combined[['Pclass','Sex','Embarked','Title','Child']] # Get Dummies of Categorical Variables\n",
    "dummies = pd.get_dummies(categorical_vars,drop_first=True)\n",
    "combined = combined.drop(['Pclass','Sex','Embarked','Title','Child'],axis=1)\n",
    "combined = pd.concat([combined, dummies],axis=1)"
   ]
  },
  {
   "cell_type": "markdown",
   "metadata": {
    "id": "i5pU1kXAd2Jb"
   },
   "source": [
    "**Code Chunk 3** Resplitting and scalling the data"
   ]
  },
  {
   "cell_type": "code",
   "execution_count": 10,
   "metadata": {
    "id": "NBta5oeRd--9"
   },
   "outputs": [],
   "source": [
    "# Separating the data back into train and test sets\n",
    "test = combined[combined['Survived'].isnull()].drop(['Survived'],axis=1)\n",
    "train = combined[combined['Survived'].notnull()]\n",
    "\n",
    "# Training\n",
    "X_train = train.drop(['Survived'],1)\n",
    "y_train = train['Survived']\n",
    "\n",
    "# Scaling\n",
    "sc = StandardScaler()\n",
    "X_train = sc.fit_transform(X_train)\n",
    "test = sc.fit_transform(test)"
   ]
  },
  {
   "cell_type": "markdown",
   "metadata": {
    "id": "DAC11ZbUU2QP"
   },
   "source": [
    "## Neural Network Model"
   ]
  },
  {
   "cell_type": "markdown",
   "metadata": {
    "id": "jXVpYyEheuns"
   },
   "source": [
    "### Building the model"
   ]
  },
  {
   "cell_type": "markdown",
   "metadata": {
    "id": "d01WQXssfF_9"
   },
   "source": [
    "#### Define the model as a pipeline"
   ]
  },
  {
   "cell_type": "markdown",
   "metadata": {
    "id": "2_UK7p_szRKy"
   },
   "source": [
    "Let's use the data science pipeline for our neural network model."
   ]
  },
  {
   "cell_type": "code",
   "execution_count": 11,
   "metadata": {
    "id": "y36TQucVRl6P"
   },
   "outputs": [],
   "source": [
    "# It will help to define our model in terms of a pipeline\n",
    "def build_classifier(optimizer):\n",
    "    classifier = Sequential()\n",
    "    classifier.add(Dense(units=10,kernel_initializer='uniform',activation='relu',input_dim=14))\n",
    "    classifier.add(Dense(units=128,kernel_initializer='uniform',activation='relu'))\n",
    "    classifier.add(Dense(units=1,kernel_initializer='uniform',activation='sigmoid'))\n",
    "    classifier.compile(optimizer=optimizer,loss='binary_crossentropy',metrics=['accuracy'])\n",
    "    return classifier\n",
    "\n",
    "# Note: Do not use regularization methods or GridSearch. Those will be for next time!"
   ]
  },
  {
   "cell_type": "markdown",
   "metadata": {
    "id": "aZdTduwM2pek"
   },
   "source": [
    "#### Fitting the optimal model and evaluating with `TensorBoaard`"
   ]
  },
  {
   "cell_type": "markdown",
   "metadata": {
    "id": "mxPY-mYffZLI"
   },
   "source": [
    "#### `TensorBoard`"
   ]
  },
  {
   "cell_type": "markdown",
   "metadata": {
    "id": "gojep38STZCg"
   },
   "source": [
    "`TensorBoard` is `TensorFlow`'s visualization toolkit. It is a dashboard that provides visualization and tooling that is needed for machine learning experimentation. The code immediately below will allow us to use TensorBoard.\n",
    "\n",
    "N.B. When we loaded the libraries, we loaded the TensorBoard notebook extension. (It is the last line of code in the first code chunk.)"
   ]
  },
  {
   "cell_type": "code",
   "execution_count": 12,
   "metadata": {
    "id": "rpclz6HWTafA"
   },
   "outputs": [],
   "source": [
    "# Clear out any prior log data.\n",
    "!rm -rf logs\n",
    "# Be careful not to run this command if already have trained your model and you want to use TensorBoard.\n",
    "\n",
    "# Sets up a timestamped log directory\n",
    "log_dir = \"logs/fit/\" + datetime.datetime.now().strftime(\"%Y%m%d-%H%M%S\")\n",
    "\n",
    "# Creates a file writer for the log directory.\n",
    "file_writer = tf.summary.create_file_writer(log_dir)\n",
    "\n",
    "\n",
    "# The callback function, which will be called in the fit()\n",
    "tensorboard_callback = tf.keras.callbacks.TensorBoard(log_dir=log_dir, histogram_freq=1)"
   ]
  },
  {
   "cell_type": "markdown",
   "metadata": {
    "id": "jJR7Qdo3f2zV"
   },
   "source": [
    "#### Fitting the optimal model and evaluating with `TensorBoaard`"
   ]
  },
  {
   "cell_type": "code",
   "execution_count": 13,
   "metadata": {
    "id": "swULa4QCUC83"
   },
   "outputs": [
    {
     "name": "stdout",
     "output_type": "stream",
     "text": [
      "Epoch 1/20\n",
      " 1/90 [..............................] - ETA: 0s - loss: 0.6933 - accuracy: 0.3000WARNING:tensorflow:From C:\\Users\\tflanagan\\Anaconda3\\envs\\learn-env\\lib\\site-packages\\tensorflow\\python\\ops\\summary_ops_v2.py:1277: stop (from tensorflow.python.eager.profiler) is deprecated and will be removed after 2020-07-01.\n",
      "Instructions for updating:\n",
      "use `tf.profiler.experimental.stop` instead.\n",
      " 2/90 [..............................] - ETA: 3s - loss: 0.6932 - accuracy: 0.3500WARNING:tensorflow:Callbacks method `on_train_batch_end` is slow compared to the batch time (batch time: 0.0020s vs `on_train_batch_end` time: 0.0696s). Check your callbacks.\n",
      "90/90 [==============================] - 0s 3ms/step - loss: 0.6324 - accuracy: 0.7598\n",
      "Epoch 2/20\n",
      "90/90 [==============================] - 0s 2ms/step - loss: 0.4519 - accuracy: 0.8092\n",
      "Epoch 3/20\n",
      "90/90 [==============================] - 0s 2ms/step - loss: 0.4295 - accuracy: 0.8182\n",
      "Epoch 4/20\n",
      "90/90 [==============================] - 0s 3ms/step - loss: 0.4212 - accuracy: 0.8204\n",
      "Epoch 5/20\n",
      "90/90 [==============================] - 0s 2ms/step - loss: 0.4133 - accuracy: 0.8305\n",
      "Epoch 6/20\n",
      "90/90 [==============================] - 0s 3ms/step - loss: 0.4095 - accuracy: 0.8294\n",
      "Epoch 7/20\n",
      "90/90 [==============================] - 0s 4ms/step - loss: 0.4055 - accuracy: 0.8305\n",
      "Epoch 8/20\n",
      "90/90 [==============================] - 0s 3ms/step - loss: 0.4037 - accuracy: 0.8328\n",
      "Epoch 9/20\n",
      "90/90 [==============================] - 0s 3ms/step - loss: 0.4000 - accuracy: 0.8272\n",
      "Epoch 10/20\n",
      "90/90 [==============================] - 0s 2ms/step - loss: 0.3987 - accuracy: 0.8395\n",
      "Epoch 11/20\n",
      "90/90 [==============================] - 0s 2ms/step - loss: 0.3962 - accuracy: 0.8395\n",
      "Epoch 12/20\n",
      "90/90 [==============================] - 0s 2ms/step - loss: 0.3975 - accuracy: 0.8339\n",
      "Epoch 13/20\n",
      "90/90 [==============================] - 0s 3ms/step - loss: 0.3935 - accuracy: 0.8384\n",
      "Epoch 14/20\n",
      "90/90 [==============================] - 0s 2ms/step - loss: 0.3905 - accuracy: 0.8406\n",
      "Epoch 15/20\n",
      "90/90 [==============================] - 0s 2ms/step - loss: 0.3896 - accuracy: 0.8440\n",
      "Epoch 16/20\n",
      "90/90 [==============================] - 0s 2ms/step - loss: 0.3897 - accuracy: 0.8418\n",
      "Epoch 17/20\n",
      "90/90 [==============================] - 0s 3ms/step - loss: 0.3873 - accuracy: 0.8429\n",
      "Epoch 18/20\n",
      "90/90 [==============================] - 0s 3ms/step - loss: 0.3862 - accuracy: 0.8406\n",
      "Epoch 19/20\n",
      "90/90 [==============================] - 0s 4ms/step - loss: 0.3854 - accuracy: 0.8384\n",
      "Epoch 20/20\n",
      "90/90 [==============================] - 0s 2ms/step - loss: 0.3843 - accuracy: 0.8418\n"
     ]
    },
    {
     "data": {
      "text/plain": [
       "<tensorflow.python.keras.callbacks.History at 0x1f0fba6fe80>"
      ]
     },
     "execution_count": 13,
     "metadata": {},
     "output_type": "execute_result"
    }
   ],
   "source": [
    "# Using KerasClassifier\n",
    "\n",
    "# Replace the optimizer, batch_size, and epochs appropriately\n",
    "classifier = KerasClassifier(build_fn = build_classifier,\n",
    "                             optimizer= 'Adam',\n",
    "                             batch_size=10,\n",
    "                             epochs=20)\n",
    "\n",
    "# Fit the model with the tensorboard_callback\n",
    "\n",
    "\n",
    "# WE DID THIS JUST TO MAKE THE .ipynb HAPPY\n",
    "\n",
    "classifier.fit(X_train,\n",
    "               y_train,\n",
    "               verbose=1,\n",
    "               callbacks=[tensorboard_callback])\n",
    "\n",
    "\n",
    "# Warning: If verbose = 0 (silent) or 2 (one line per epoch), then on TensorBoard's Graphs tab there will be an error.\n",
    "# The other tabs in TensorBoard will still be functioning, but if you want the graphs then verbose needs to be 1 (progress bar)."
   ]
  },
  {
   "cell_type": "code",
   "execution_count": 16,
   "metadata": {},
   "outputs": [
    {
     "name": "stdout",
     "output_type": "stream",
     "text": [
      "^C\n"
     ]
    }
   ],
   "source": [
    "!tensorboard dev upload \\\n",
    "  --logdir logs/fit \\\n",
    "  --name \"My latest experiment\" \\\n",
    "  --description \"Testing\" \\\n",
    "  --one_shot"
   ]
  },
  {
   "cell_type": "code",
   "execution_count": 14,
   "metadata": {
    "id": "IxrM5s8qgAfy"
   },
   "outputs": [
    {
     "data": {
      "text/plain": [
       "ERROR: Timed out waiting for TensorBoard to start. It may still be running as pid 308."
      ]
     },
     "metadata": {},
     "output_type": "display_data"
    }
   ],
   "source": [
    "# Call TensorBoard\n",
    "%tensorboard --logdir logs/fit"
   ]
  },
  {
   "cell_type": "markdown",
   "metadata": {
    "id": "fx3aSuzagU35"
   },
   "source": [
    "#### Results and Predictions"
   ]
  },
  {
   "cell_type": "code",
   "execution_count": 18,
   "metadata": {
    "id": "-wEYDe-CzeVG"
   },
   "outputs": [
    {
     "data": {
      "text/html": [
       "<div>\n",
       "<style scoped>\n",
       "    .dataframe tbody tr th:only-of-type {\n",
       "        vertical-align: middle;\n",
       "    }\n",
       "\n",
       "    .dataframe tbody tr th {\n",
       "        vertical-align: top;\n",
       "    }\n",
       "\n",
       "    .dataframe thead th {\n",
       "        text-align: right;\n",
       "    }\n",
       "</style>\n",
       "<table border=\"1\" class=\"dataframe\">\n",
       "  <thead>\n",
       "    <tr style=\"text-align: right;\">\n",
       "      <th></th>\n",
       "      <th>PassengerId</th>\n",
       "      <th>Survived</th>\n",
       "    </tr>\n",
       "  </thead>\n",
       "  <tbody>\n",
       "    <tr>\n",
       "      <th>0</th>\n",
       "      <td>892</td>\n",
       "      <td>0</td>\n",
       "    </tr>\n",
       "    <tr>\n",
       "      <th>1</th>\n",
       "      <td>893</td>\n",
       "      <td>0</td>\n",
       "    </tr>\n",
       "    <tr>\n",
       "      <th>2</th>\n",
       "      <td>894</td>\n",
       "      <td>0</td>\n",
       "    </tr>\n",
       "    <tr>\n",
       "      <th>3</th>\n",
       "      <td>895</td>\n",
       "      <td>0</td>\n",
       "    </tr>\n",
       "    <tr>\n",
       "      <th>4</th>\n",
       "      <td>896</td>\n",
       "      <td>0</td>\n",
       "    </tr>\n",
       "    <tr>\n",
       "      <th>5</th>\n",
       "      <td>897</td>\n",
       "      <td>0</td>\n",
       "    </tr>\n",
       "    <tr>\n",
       "      <th>6</th>\n",
       "      <td>898</td>\n",
       "      <td>1</td>\n",
       "    </tr>\n",
       "    <tr>\n",
       "      <th>7</th>\n",
       "      <td>899</td>\n",
       "      <td>0</td>\n",
       "    </tr>\n",
       "    <tr>\n",
       "      <th>8</th>\n",
       "      <td>900</td>\n",
       "      <td>1</td>\n",
       "    </tr>\n",
       "    <tr>\n",
       "      <th>9</th>\n",
       "      <td>901</td>\n",
       "      <td>0</td>\n",
       "    </tr>\n",
       "    <tr>\n",
       "      <th>10</th>\n",
       "      <td>902</td>\n",
       "      <td>0</td>\n",
       "    </tr>\n",
       "    <tr>\n",
       "      <th>11</th>\n",
       "      <td>903</td>\n",
       "      <td>0</td>\n",
       "    </tr>\n",
       "    <tr>\n",
       "      <th>12</th>\n",
       "      <td>904</td>\n",
       "      <td>1</td>\n",
       "    </tr>\n",
       "    <tr>\n",
       "      <th>13</th>\n",
       "      <td>905</td>\n",
       "      <td>0</td>\n",
       "    </tr>\n",
       "    <tr>\n",
       "      <th>14</th>\n",
       "      <td>906</td>\n",
       "      <td>1</td>\n",
       "    </tr>\n",
       "    <tr>\n",
       "      <th>15</th>\n",
       "      <td>907</td>\n",
       "      <td>1</td>\n",
       "    </tr>\n",
       "    <tr>\n",
       "      <th>16</th>\n",
       "      <td>908</td>\n",
       "      <td>0</td>\n",
       "    </tr>\n",
       "    <tr>\n",
       "      <th>17</th>\n",
       "      <td>909</td>\n",
       "      <td>0</td>\n",
       "    </tr>\n",
       "    <tr>\n",
       "      <th>18</th>\n",
       "      <td>910</td>\n",
       "      <td>0</td>\n",
       "    </tr>\n",
       "    <tr>\n",
       "      <th>19</th>\n",
       "      <td>911</td>\n",
       "      <td>1</td>\n",
       "    </tr>\n",
       "  </tbody>\n",
       "</table>\n",
       "</div>"
      ],
      "text/plain": [
       "    PassengerId  Survived\n",
       "0           892         0\n",
       "1           893         0\n",
       "2           894         0\n",
       "3           895         0\n",
       "4           896         0\n",
       "5           897         0\n",
       "6           898         1\n",
       "7           899         0\n",
       "8           900         1\n",
       "9           901         0\n",
       "10          902         0\n",
       "11          903         0\n",
       "12          904         1\n",
       "13          905         0\n",
       "14          906         1\n",
       "15          907         1\n",
       "16          908         0\n",
       "17          909         0\n",
       "18          910         0\n",
       "19          911         1"
      ]
     },
     "execution_count": 18,
     "metadata": {},
     "output_type": "execute_result"
    }
   ],
   "source": [
    "# This will export your predictions to a .csv. Uncomment.\n",
    "\n",
    "preds = classifier.predict(test)\n",
    "results = ids.assign(Survived=preds)\n",
    "results['Survived'] = results['Survived'].apply(lambda row: 1 if row > 0.5 else 0)\n",
    "results.to_csv('titanic_submission.csv',index=False)\n",
    "results.head(20)"
   ]
  },
  {
   "cell_type": "markdown",
   "metadata": {
    "id": "4xd1lF1f9T4w"
   },
   "source": [
    "Continue to tweak your model until you are happy with the results based on model evaluation."
   ]
  },
  {
   "cell_type": "markdown",
   "metadata": {
    "id": "1T1ej4W68j-T"
   },
   "source": [
    "## Conclusion"
   ]
  },
  {
   "cell_type": "markdown",
   "metadata": {
    "id": "XHW7vUl19I9R"
   },
   "source": [
    "Now that you have the `TensorBoard` to help you look at your model, you can better understand how to tweak your model.\n",
    "\n",
    "We'll continue with this for the next lesson when we learn about model regularization."
   ]
  }
 ],
 "metadata": {
  "colab": {
   "collapsed_sections": [],
   "provenance": []
  },
  "kernelspec": {
   "display_name": "Python 3",
   "language": "python",
   "name": "python3"
  },
  "language_info": {
   "codemirror_mode": {
    "name": "ipython",
    "version": 3
   },
   "file_extension": ".py",
   "mimetype": "text/x-python",
   "name": "python",
   "nbconvert_exporter": "python",
   "pygments_lexer": "ipython3",
   "version": "3.8.5"
  }
 },
 "nbformat": 4,
 "nbformat_minor": 1
}
